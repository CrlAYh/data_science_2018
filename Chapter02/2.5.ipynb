{
 "cells": [
  {
   "cell_type": "markdown",
   "metadata": {},
   "source": [
    "# 2.5 요약 및 정리"
   ]
  },
  {
   "cell_type": "markdown",
   "metadata": {},
   "source": [
    "- 과소적합\n",
    "    - 훈련 데이터의 다양한 특징을 반영하지 못하는 모델\n",
    "- 과대적합\n",
    "    - 훈련 데이터에 너무 맞춰져 새로운 데이터에 일반적이지 못한 모델\n",
    "    \n",
    "- 각 알고리즘의 특징\n",
    "    - 최근접 이웃\n",
    "        - 작은 데이터셋일 경우, 기본 모델로 좋고 설명이 쉬움\n",
    "    - 선형 모델\n",
    "        - 대용량 데이터셋이 가능\n",
    "        - 고차원 데이터에 가능\n",
    "    - 나이브 베이즈\n",
    "        - 분류만 가능\n",
    "        - 선형모델모다 빠름\n",
    "        - 대용량 데이터셋, 고차원 데이터에 가능\n",
    "        - 선형모델에 비해 덜 정확함\n",
    "    - 결정 트리\n",
    "        - 빠른 속도\n",
    "        - 데이터 스케일 조정이 필요 없음,\n",
    "        - 시각화가 쉽기 때문에 설명에 용이\n",
    "    - 렌덤 포레스트\n",
    "        - 결정 트리 하나보다 거의 항상 좋은 성능을 보임\n",
    "        - 고차원 휘소 데이터에 부적절\n",
    "    - 그래디언트 부스팅 결정 트리\n",
    "        - 렌덤 포트스트 보다 나은 성은\n",
    "            - 학습은 느리나, 예측이 빠르고 메모리 사용이 적음\n",
    "        - 렌덤 포레스트 보다 매개변수 튜닝이 많이 필요\n",
    "    - 서포트 벡터 머신\n",
    "        - 비슷한 의미의 특성으로 이루어진 중간 규모 데이터셋에 잘 맞음\n",
    "        - 데이터 스케일 조정이 필요\n",
    "        - 매개변수에 민감\n",
    "            - 주관적인 해석에 주의\n",
    "    - 신경망\n",
    "        - 대용량 데이터셋에 대한 매우 복합한 모델 생성 가능\n",
    "        - 매개변수 선태고가 데이터 스케일에 민감\n",
    "        - 큰 모델은 학습이 오래 결림\n",
    "        \n",
    "- 각 모델에 대한 매개변수 튜닝을 위해 많은 시간아 소요.\n",
    "    - 6장에서 매개변수 자동 튜닝을 참조..."
   ]
  },
  {
   "cell_type": "code",
   "execution_count": null,
   "metadata": {},
   "outputs": [],
   "source": []
  }
 ],
 "metadata": {
  "kernelspec": {
   "display_name": "Python 3",
   "language": "python",
   "name": "python3"
  },
  "language_info": {
   "codemirror_mode": {
    "name": "ipython",
    "version": 3
   },
   "file_extension": ".py",
   "mimetype": "text/x-python",
   "name": "python",
   "nbconvert_exporter": "python",
   "pygments_lexer": "ipython3",
   "version": "3.6.4"
  }
 },
 "nbformat": 4,
 "nbformat_minor": 2
}
